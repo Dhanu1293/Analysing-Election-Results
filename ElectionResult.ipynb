{
  "nbformat": 4,
  "nbformat_minor": 0,
  "metadata": {
    "colab": {
      "provenance": [],
      "authorship_tag": "ABX9TyOzaIdtSeqPRj/aBFHHtvrE",
      "include_colab_link": true
    },
    "kernelspec": {
      "name": "python3",
      "display_name": "Python 3"
    },
    "language_info": {
      "name": "python"
    }
  },
  "cells": [
    {
      "cell_type": "markdown",
      "metadata": {
        "id": "view-in-github",
        "colab_type": "text"
      },
      "source": [
        "<a href=\"https://colab.research.google.com/github/Dhanu1293/Analysing-Election-Results/blob/main/ElectionResult.ipynb\" target=\"_parent\"><img src=\"https://colab.research.google.com/assets/colab-badge.svg\" alt=\"Open In Colab\"/></a>"
      ]
    },
    {
      "cell_type": "code",
      "execution_count": 12,
      "metadata": {
        "id": "4FM2QWx4WSw6"
      },
      "outputs": [],
      "source": []
    },
    {
      "cell_type": "code",
      "source": [
        "import pandas as pd"
      ],
      "metadata": {
        "id": "BVyS3uGeWoNA"
      },
      "execution_count": 13,
      "outputs": []
    },
    {
      "cell_type": "code",
      "source": [
        "#Sample election results data (replace with actual data if available)\n",
        "\n",
        "data = {\n",
        "\n",
        "'Constituency': ['A', 'B', 'C', 'A', 'B', 'C', 'A', 'B', 'C'],\n",
        "\n",
        "'Party': ['Party A', 'Party B', 'Party A', 'Party B', 'Party C', 'Party C', 'Party A', 'Party B', 'Party A'],\n",
        "\n",
        "'Candidate': [ 'Candidate X', 'Candidate Y', 'Candidate Z', 'Candidate P', 'Candidate Q', 'Candidate R', 'Candidate S', 'Candidate T', 'Candidate U'],\n",
        "\n",
        "'Votes': [15000, 12000, 18000, 13000, 10000, 11000, 17000, 14000, 16000]\n",
        "}\n",
        "df =pd.DataFrame(data)\n",
        "\n"
      ],
      "metadata": {
        "id": "af86tsoeWy9p"
      },
      "execution_count": 14,
      "outputs": []
    },
    {
      "cell_type": "code",
      "source": [
        "#Calculate total votes for each party\n",
        "\n",
        "total_votes_by_party= df.groupby('Party') ['Votes'].sum()\n",
        "\n",
        "print(\"Total votes per Party:\\n\", total_votes_by_party)\n"
      ],
      "metadata": {
        "colab": {
          "base_uri": "https://localhost:8080/"
        },
        "id": "8Grv_CDDYYes",
        "outputId": "f80ab68c-f50d-42c4-c628-3baec01093df"
      },
      "execution_count": 15,
      "outputs": [
        {
          "output_type": "stream",
          "name": "stdout",
          "text": [
            "Total votes per Party:\n",
            " Party\n",
            "Party A    66000\n",
            "Party B    39000\n",
            "Party C    21000\n",
            "Name: Votes, dtype: int64\n"
          ]
        }
      ]
    },
    {
      "cell_type": "code",
      "source": [
        "#Identify the winning party in each constituency\n",
        "\n",
        "def get_winning_party(x):\n",
        "\n",
        "     return x.loc[x['Votes'].idxmax(), 'Party']\n"
      ],
      "metadata": {
        "id": "m_7mInTQZM-U"
      },
      "execution_count": 16,
      "outputs": []
    },
    {
      "cell_type": "code",
      "source": [
        "winning_party_by_constituency=df.groupby('Constituency').apply(get_winning_party)\n",
        "print(\"\\winning party by constituency :\\n\",winning_party_by_constituency)"
      ],
      "metadata": {
        "colab": {
          "base_uri": "https://localhost:8080/"
        },
        "id": "eeVZ49DuZfEq",
        "outputId": "87dbdb99-b20c-4598-8fd3-5e9fc4fa612c"
      },
      "execution_count": 17,
      "outputs": [
        {
          "output_type": "stream",
          "name": "stdout",
          "text": [
            "\\winning party by constituency :\n",
            " Constituency\n",
            "A    Party A\n",
            "B    Party B\n",
            "C    Party A\n",
            "dtype: object\n"
          ]
        },
        {
          "output_type": "stream",
          "name": "stderr",
          "text": [
            "<ipython-input-17-e8c24126e8cc>:1: DeprecationWarning: DataFrameGroupBy.apply operated on the grouping columns. This behavior is deprecated, and in a future version of pandas the grouping columns will be excluded from the operation. Either pass `include_groups=False` to exclude the groupings or explicitly select the grouping columns after groupby to silence this warning.\n",
            "  winning_party_by_constituency=df.groupby('Constituency').apply(get_winning_party)\n"
          ]
        }
      ]
    },
    {
      "cell_type": "code",
      "source": [
        "#Determine the overall election winner\n",
        "\n",
        "overall_winner = total_votes_by_party.idxmax()\n",
        "\n",
        "print(\"\\nOverall Election Winner:\", overall_winner)\n"
      ],
      "metadata": {
        "colab": {
          "base_uri": "https://localhost:8080/"
        },
        "id": "AQe2yMb2Z9dO",
        "outputId": "80c770b4-b4fa-456b-ec78-4f8ed8382c70"
      },
      "execution_count": 18,
      "outputs": [
        {
          "output_type": "stream",
          "name": "stdout",
          "text": [
            "\n",
            "Overall Election Winner: Party A\n"
          ]
        }
      ]
    },
    {
      "cell_type": "code",
      "source": [
        "#Calculate vote share percentages\n",
        "\n",
        "total_votes =df['Votes'].sum()\n",
        "\n",
        "df['Vote Share (%)'] =(df['Votes'] / total_votes)*100\n",
        "\n",
        "print(\"\\nVote Share Percentages:\\n\", df)"
      ],
      "metadata": {
        "colab": {
          "base_uri": "https://localhost:8080/"
        },
        "id": "11kuiMCFaelh",
        "outputId": "f094334e-858d-4368-e938-9851b3689134"
      },
      "execution_count": 19,
      "outputs": [
        {
          "output_type": "stream",
          "name": "stdout",
          "text": [
            "\n",
            "Vote Share Percentages:\n",
            "   Constituency    Party    Candidate  Votes  Vote Share (%)\n",
            "0            A  Party A  Candidate X  15000       11.904762\n",
            "1            B  Party B  Candidate Y  12000        9.523810\n",
            "2            C  Party A  Candidate Z  18000       14.285714\n",
            "3            A  Party B  Candidate P  13000       10.317460\n",
            "4            B  Party C  Candidate Q  10000        7.936508\n",
            "5            C  Party C  Candidate R  11000        8.730159\n",
            "6            A  Party A  Candidate S  17000       13.492063\n",
            "7            B  Party B  Candidate T  14000       11.111111\n",
            "8            C  Party A  Candidate U  16000       12.698413\n"
          ]
        }
      ]
    },
    {
      "cell_type": "code",
      "source": [
        "\n",
        "#Identify constituencies with close contests (e.g., margin less than 12%)\n",
        "def close_contest(x):\n",
        "   vote_counts = x[ 'Votes'].values\n",
        "   if len(vote_counts) > 1:\n",
        "       vote_counts.sort() # Sort the vote counts within the constituency\n",
        "       margin=(vote_counts[-1] -vote_counts[-2]) / vote_counts[-1] * 100\n",
        "       return margin < 12.0\n",
        "   else:\n",
        "       return False\n",
        "close_constituencies =df.groupby('Constituency').filter(close_contest) ['Constituency'].unique()\n",
        "print(\"\\nConstituencies with Close Contests:\", close_constituencies)"
      ],
      "metadata": {
        "colab": {
          "base_uri": "https://localhost:8080/"
        },
        "id": "M_OIJRC-ayj_",
        "outputId": "c44071e4-a268-40a8-c4d7-a5e2da9d82a9"
      },
      "execution_count": 22,
      "outputs": [
        {
          "output_type": "stream",
          "name": "stdout",
          "text": [
            "\n",
            "Constituencies with Close Contests: ['A' 'C']\n"
          ]
        }
      ]
    }
  ]
}